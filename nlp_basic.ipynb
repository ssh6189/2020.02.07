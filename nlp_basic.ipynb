{
 "cells": [
  {
   "cell_type": "code",
   "execution_count": 1,
   "metadata": {
    "ExecuteTime": {
     "end_time": "2020-02-07T06:28:24.670959Z",
     "start_time": "2020-02-07T06:28:21.262943Z"
    }
   },
   "outputs": [],
   "source": [
    "import numpy as np\n",
    "#머신러닝에서 사용하는건데, anaconda에 기본적으로 깔려있다.\n",
    "from sklearn.naive_bayes import GaussianNB\n",
    "from sklearn.metrics import accuracy_score\n",
    "from sklearn.feature_extraction.text import CountVectorizer\n",
    "from sklearn.feature_extraction.text import TfidfVectorizer\n",
    "from sklearn.metrics.pairwise import cosine_similarity\n",
    "from sklearn.linear_model import SGDClassifier\n",
    "from sklearn.svm import LinearSVC\n",
    "from tensorflow.keras.datasets import imdb\n",
    "from konlpy.tag import Twitter\n",
    "from konlpy.tag import Okt\n",
    "from konlpy.tag import Kkma \n",
    "from konlpy.tag import Twitter\n",
    "from pprint import pprint\n",
    "import nltk\n",
    "from nltk.classify.scikitlearn import SklearnClassifier\n",
    "from wordcloud import WordCloud, STOPWORDS\n",
    "from gensim import corpora, models\n",
    "import numpy  as np\n",
    "from PIL import Image\n",
    "from wordcloud import ImageColorGenerator\n",
    "import glob\n",
    "import re\n",
    "import matplotlib.pyplot as plt\n",
    "from tensorflow.keras.preprocessing.text import Tokenizer\n",
    "from tensorflow.keras.preprocessing.sequence import pad_sequences\n",
    "%matplotlib inline\n"
   ]
  },
  {
   "cell_type": "code",
   "execution_count": 2,
   "metadata": {
    "ExecuteTime": {
     "end_time": "2020-02-07T06:28:24.688956Z",
     "start_time": "2020-02-07T06:28:24.674951Z"
    }
   },
   "outputs": [],
   "source": [
    "ko_str = '이것은 한국어 문장입니다.'\n",
    "ja_str = 'これは日本語の文章です。'\n",
    "en_str = 'This is English Sentences.'\n",
    "ch_str = '统一码'"
   ]
  },
  {
   "cell_type": "code",
   "execution_count": 3,
   "metadata": {
    "ExecuteTime": {
     "end_time": "2020-02-07T06:28:24.704534Z",
     "start_time": "2020-02-07T06:28:24.690905Z"
    }
   },
   "outputs": [
    {
     "name": "stdout",
     "output_type": "stream",
     "text": [
      "것\n"
     ]
    }
   ],
   "source": [
    "print(ko_str[1])"
   ]
  },
  {
   "cell_type": "code",
   "execution_count": 4,
   "metadata": {
    "ExecuteTime": {
     "end_time": "2020-02-07T06:28:24.710913Z",
     "start_time": "2020-02-07T06:28:24.705865Z"
    }
   },
   "outputs": [
    {
     "name": "stdout",
     "output_type": "stream",
     "text": [
      "51060\n",
      "12371\n",
      "84\n",
      "32479\n"
     ]
    }
   ],
   "source": [
    "#ord : 아스키 코드값을 가져온다.\n",
    "#기본적으로 어느나라 언어인지, 캐릭터(문자)의 범위가지고, 알 수 있어서, 유추가 가능하다.\n",
    "print(ord(ko_str[0]))\n",
    "print(ord(ja_str[0]))\n",
    "print(ord(en_str[0]))\n",
    "print(ord(ch_str[0]))"
   ]
  },
  {
   "cell_type": "code",
   "execution_count": 5,
   "metadata": {
    "ExecuteTime": {
     "end_time": "2020-02-07T06:28:24.716889Z",
     "start_time": "2020-02-07T06:28:24.711848Z"
    }
   },
   "outputs": [],
   "source": [
    "#각각의 언어마다, 문자의 빈도수가 다르다.\n",
    "#유니코드는 0부터 65536까지\n",
    "# Unicode 코드 포인트로 출현 빈도 판정하기 --- (*1)\n",
    "def count_codePoint(str):\n",
    "    # Unicode 코드 포인트를 저장할 배열 준비하기 --- (*2)\n",
    "    counter = np.zeros(65535)\n",
    "    for i in range(len(str)):\n",
    "        # 각 문자를 Unicode 코드 포인트로 변환하기 --- (*3)\n",
    "        code_point = ord(str[i])\n",
    "        if code_point > 65535 :\n",
    "            continue\n",
    "        # 출현 횟수 세기 --- (*4)\n",
    "        counter[code_point] += 1\n",
    "\n",
    "    # 각 요소를 문자 수로 나눠 정규화하기 --- (*5)\n",
    "    counter = counter/len(str)\n",
    "    return counter\n",
    "    "
   ]
  },
  {
   "cell_type": "code",
   "execution_count": 6,
   "metadata": {
    "ExecuteTime": {
     "end_time": "2020-02-07T06:28:24.722880Z",
     "start_time": "2020-02-07T06:28:24.717884Z"
    }
   },
   "outputs": [],
   "source": [
    "# 학습 전용 데이터 준비하기\n",
    "ko_str = '이것은 한국어 문장입니다.'\n",
    "ja_str = 'これは日本語の文章です。'\n",
    "en_str = 'This is English Sentences.'\n",
    "\n",
    "x_train = [count_codePoint(ko_str), count_codePoint(ja_str), count_codePoint(en_str)]\n",
    "y_train = ['ko','ja','en']"
   ]
  },
  {
   "cell_type": "code",
   "execution_count": 7,
   "metadata": {
    "ExecuteTime": {
     "end_time": "2020-02-07T06:28:24.729798Z",
     "start_time": "2020-02-07T06:28:24.723815Z"
    }
   },
   "outputs": [
    {
     "name": "stdout",
     "output_type": "stream",
     "text": [
      "[0. 0. 0. ... 0. 0. 0.]\n",
      "(array([   32,    46, 44163, 44397, 45768, 45796, 47928, 50612, 51008,\n",
      "       51060, 51077, 51109, 54620], dtype=int64),)\n",
      "[0.14285714 0.07142857 0.07142857 0.07142857 0.07142857 0.07142857\n",
      " 0.07142857 0.07142857 0.07142857 0.07142857 0.07142857 0.07142857\n",
      " 0.07142857]\n"
     ]
    }
   ],
   "source": [
    "print(x_train[0]) #[0]이므로, 한국어만\n",
    "print(np.where(x_train[0]>0)) #0이 아닌곳의 인덱스를 출력, 한글은 음절 단위로 모두 기록되어 있다.\n",
    "\n",
    "idx = np.where(x_train[0]>0)\n",
    "\n",
    "data = x_train[0]\n",
    "print(data[idx]) #발생빈도수가, 0보다 큰것들의 빈도수를 표시"
   ]
  },
  {
   "cell_type": "code",
   "execution_count": 8,
   "metadata": {
    "ExecuteTime": {
     "end_time": "2020-02-07T06:28:24.853525Z",
     "start_time": "2020-02-07T06:28:24.731795Z"
    }
   },
   "outputs": [
    {
     "data": {
      "text/plain": [
       "<matplotlib.collections.PathCollection at 0x2916065e390>"
      ]
     },
     "execution_count": 8,
     "metadata": {},
     "output_type": "execute_result"
    },
    {
     "data": {
      "image/png": "[encoded data removed]",
      "text/plain": [
       "<Figure size 432x288 with 1 Axes>"
      ]
     },
     "metadata": {
      "needs_background": "light"
     },
     "output_type": "display_data"
    }
   ],
   "source": [
    "#그냥 이건 위의것과 상관 없음, 이해를 위해서\n",
    "import matplotlib.pyplot as plt\n",
    "#X = np.array([[-1, -1], [3, 2]])\n",
    "#Y = np.array([1,  2])\n",
    "#데이터가 별로 없어서, 딥러닝은 힘들다. 풀어봤자, 풀리지 않는다. 샘플개수 3개다.\n",
    "\n",
    "X = np.array([[-1, -1], [-2, -1], [-3, -2], [1, 1], [2, 1], [3, 2]])\n",
    "\n",
    "#빨간색이 1, 파란색이 2\n",
    "#Y = np.array([1, 1, 1, 2, 2, 2])\n",
    "#이렇게 줘도 된다.\n",
    "Y = np.array(['r', 'r', 'r', 'b', 'b', 'b'])\n",
    "\n",
    "#color = [ 'red' if y == 1 else 'blue' for y in Y]\n",
    "color = [ 'red' if y == 'r' else 'blue' for y in Y]\n",
    "\n",
    "#X[np.array의 전체 괄호의 0번 인덱스, 1번 인덱스]\n",
    "plt.scatter(X[:, 0], X[:, 1], color=color)\n",
    "\n",
    "t = np.array([[-0.8, -1]]) #테스트 데이터\n",
    "\n",
    "plt.scatter(t[:,0], t[:,1], color='yellow')"
   ]
  },
  {
   "cell_type": "code",
   "execution_count": 9,
   "metadata": {
    "ExecuteTime": {
     "end_time": "2020-02-07T06:28:24.860449Z",
     "start_time": "2020-02-07T06:28:24.854465Z"
    }
   },
   "outputs": [
    {
     "name": "stdout",
     "output_type": "stream",
     "text": [
      "['r']\n",
      "['r']\n"
     ]
    }
   ],
   "source": [
    "clf = GaussianNB() #특정 조건이 주어졌을때, 확률값을 가져가는것\n",
    "clf.fit(X, Y)\n",
    "#Y는 같은 애들인지 아닌지 구분하기 위해서이지, 연산에 활용하지는 않는다.\n",
    "\n",
    "#-0.8, -1에 해당하는 애들이 어디라고 예측하는가?\n",
    "#똑같은것\n",
    "print(clf.predict([[-0.8, -1]]))\n",
    "print(clf.predict(t))\n",
    "\n",
    "#언어에서는 데이터 3개에 65536차원이 된다. 행 3개, 열 65536"
   ]
  },
  {
   "cell_type": "code",
   "execution_count": 10,
   "metadata": {
    "ExecuteTime": {
     "end_time": "2020-02-07T06:28:24.868161Z",
     "start_time": "2020-02-07T06:28:24.861446Z"
    }
   },
   "outputs": [
    {
     "name": "stdout",
     "output_type": "stream",
     "text": [
      "[0]\n"
     ]
    }
   ],
   "source": [
    "#데이터가 적을 때, 가장 단순하게 사용할 수 있는 알고리즘\n",
    "clf.fit([[0,0], [0,1], [1,0], [1,1]], [0,1,1,0])\n",
    "print(clf.predict([[0, 1]]))"
   ]
  },
  {
   "cell_type": "code",
   "execution_count": 11,
   "metadata": {
    "ExecuteTime": {
     "end_time": "2020-02-07T06:28:24.902069Z",
     "start_time": "2020-02-07T06:28:24.869158Z"
    }
   },
   "outputs": [
    {
     "data": {
      "text/plain": [
       "GaussianNB(priors=None, var_smoothing=1e-09)"
      ]
     },
     "execution_count": 11,
     "metadata": {},
     "output_type": "execute_result"
    }
   ],
   "source": [
    "#학습하기 \n",
    "clf = GaussianNB()\n",
    "clf.fit(x_train, y_train)"
   ]
  },
  {
   "cell_type": "code",
   "execution_count": 12,
   "metadata": {
    "ExecuteTime": {
     "end_time": "2020-02-07T06:28:24.910048Z",
     "start_time": "2020-02-07T06:28:24.903067Z"
    }
   },
   "outputs": [
    {
     "name": "stdout",
     "output_type": "stream",
     "text": [
      "['ko']\n"
     ]
    }
   ],
   "source": [
    "########0 ~ 65536까지 아스키코드의 분포를 파악하여, 어느 나라 언어인지 파악한다.\n",
    "y_pred = clf.predict([count_codePoint('안녕, 어디야')])\n",
    "print(y_pred)"
   ]
  },
  {
   "cell_type": "code",
   "execution_count": 13,
   "metadata": {
    "ExecuteTime": {
     "end_time": "2020-02-07T06:28:24.928000Z",
     "start_time": "2020-02-07T06:28:24.911046Z"
    }
   },
   "outputs": [
    {
     "name": "stdout",
     "output_type": "stream",
     "text": [
      "['en' 'ja' 'ko']\n",
      "['en', 'ja', 'ko']\n",
      "정답률 =  1.0\n"
     ]
    }
   ],
   "source": [
    "# 평가 전용 데이터 준비하기\n",
    "en_test_str = 'Hello'\n",
    "ja_test_str = 'こんにちは'\n",
    "ko_test_str = '안녕, 어디야?'\n",
    "\n",
    "x_test = [count_codePoint(en_test_str), count_codePoint(ja_test_str), count_codePoint(ko_test_str)]\n",
    "y_test = ['en', 'ja', 'ko']\n",
    "\n",
    "# 평가하기 --- (*7)\n",
    "y_pred = clf.predict(x_test)\n",
    "print(y_pred) #예측\n",
    "print(y_test) #정답\n",
    "print(\"정답률 = \" , accuracy_score(y_test, y_pred))"
   ]
  },
  {
   "cell_type": "markdown",
   "metadata": {},
   "source": [
    "<h1>문자셋이 동일한 경우?</h1>"
   ]
  },
  {
   "cell_type": "markdown",
   "metadata": {
    "ExecuteTime": {
     "end_time": "2020-02-07T02:26:47.737419Z",
     "start_time": "2020-02-07T02:26:47.733401Z"
    }
   },
   "source": [
    "<h2>알파벳을 쓰는 국가들은, 알파벳 빈도수로 구분을 한다.</h2>"
   ]
  },
  {
   "cell_type": "code",
   "execution_count": 14,
   "metadata": {
    "ExecuteTime": {
     "end_time": "2020-02-07T06:28:25.150857Z",
     "start_time": "2020-02-07T06:28:24.928997Z"
    }
   },
   "outputs": [
    {
     "name": "stdout",
     "output_type": "stream",
     "text": [
      "./train\\de_cat.txt\n",
      "./train\\de_dog.txt\n",
      "./train\\de_elephant.txt\n",
      "./train\\en_cat.txt\n",
      "./train\\en_dog.txt\n",
      "./train\\en_elephant.txt\n",
      "./train\\es_cat.txt\n",
      "./train\\es_dog.txt\n",
      "./train\\es_elephant.txt\n"
     ]
    }
   ],
   "source": [
    "#언어 하나당 하나의 파일로 구분되어 있다.\n",
    "# 학습 데이터 준비하기 --- (*1)\n",
    "x_train = []\n",
    "y_train = []\n",
    "#소스코드와 train폴더와 test폴더는 한 경로 안에 존재해야한다.\n",
    "for file in glob.glob('./train/*.txt'):\n",
    "    # 언어 정보를 추출하고 레이블로 지정하기 --- (*2)\n",
    "    print(file)\n",
    "    y_train.append(file[8:10]) #전체 경로 명에서 8번째에서 9번째까지 가져오라는 의미 \n",
    "    \n",
    "    # 파일 내부의 문자열을 모두 추출한 뒤 빈도 배열로 변환한 뒤 입력 데이터로 사용하기 --- (*3)\n",
    "    file_str = ''\n",
    "    for line in open(file, 'r', encoding='UTF8'):\n",
    "        #전체 문장을 하나의 문자열로 변환\n",
    "        file_str = file_str + line\n",
    "    # 학습 데이터 준비하기 --- (*1)\n",
    "    x_train.append(count_codePoint(file_str))"
   ]
  },
  {
   "cell_type": "code",
   "execution_count": 15,
   "metadata": {
    "ExecuteTime": {
     "end_time": "2020-02-07T06:28:25.174342Z",
     "start_time": "2020-02-07T06:28:25.155513Z"
    }
   },
   "outputs": [
    {
     "data": {
      "text/plain": [
       "GaussianNB(priors=None, var_smoothing=1e-09)"
      ]
     },
     "execution_count": 15,
     "metadata": {},
     "output_type": "execute_result"
    }
   ],
   "source": [
    "# 학습하기\n",
    "clf = GaussianNB() \n",
    "clf.fit(x_train, y_train)"
   ]
  },
  {
   "cell_type": "code",
   "execution_count": 16,
   "metadata": {
    "ExecuteTime": {
     "end_time": "2020-02-07T06:28:25.181323Z",
     "start_time": "2020-02-07T06:28:25.175338Z"
    }
   },
   "outputs": [
    {
     "name": "stdout",
     "output_type": "stream",
     "text": [
      "['de']\n"
     ]
    }
   ],
   "source": [
    "y_pred = clf.predict([count_codePoint('hello. my name is ')])\n",
    "print(y_pred)"
   ]
  },
  {
   "cell_type": "code",
   "execution_count": 17,
   "metadata": {
    "ExecuteTime": {
     "end_time": "2020-02-07T06:28:25.296015Z",
     "start_time": "2020-02-07T06:28:25.191295Z"
    }
   },
   "outputs": [
    {
     "name": "stdout",
     "output_type": "stream",
     "text": [
      "['de' 'en' 'es']\n",
      "정답률 =  1.0\n"
     ]
    }
   ],
   "source": [
    "# 평가 데이터 준비하기 --- (*4)\n",
    "x_test = []\n",
    "y_test = []\n",
    "for file in glob.glob('./test/*.txt'):\n",
    "    # 언어 정보를 추출하고 레이블로 지정하기\n",
    "    y_test.append(file[7:9])\n",
    "    \n",
    "    # 파일 내부의 문자열을 모두 추출한 뒤 빈도 배열로 변환한 뒤 입력 데이터로 사용하기\n",
    "    file_str = ''\n",
    "    for line in open(file, 'r', encoding='UTF8'):\n",
    "        file_str = file_str + line\n",
    "    x_test.append(count_codePoint(file_str)) \n",
    "\n",
    "# 평가하기\n",
    "y_pred = clf.predict(x_test)\n",
    "print(y_pred)\n",
    "print(\"정답률 = \" , accuracy_score(y_test, y_pred))  \n",
    "        "
   ]
  },
  {
   "cell_type": "markdown",
   "metadata": {},
   "source": [
    "<h1>2. 단어 빈도수 기반 자연어 처리</h1>\n",
    "단어 빈도수 기반"
   ]
  },
  {
   "cell_type": "code",
   "execution_count": 18,
   "metadata": {
    "ExecuteTime": {
     "end_time": "2020-02-07T06:28:25.300005Z",
     "start_time": "2020-02-07T06:28:25.296015Z"
    }
   },
   "outputs": [],
   "source": [
    "#단어 "
   ]
  },
  {
   "cell_type": "code",
   "execution_count": 19,
   "metadata": {
    "ExecuteTime": {
     "end_time": "2020-02-07T06:28:25.304991Z",
     "start_time": "2020-02-07T06:28:25.301002Z"
    }
   },
   "outputs": [],
   "source": [
    "corpus = [\n",
    "    'you know I want your love',\n",
    "    'I like you',\n",
    "    'what should I do',\n",
    "    'what should',\n",
    "    'should what'\n",
    "]"
   ]
  },
  {
   "cell_type": "code",
   "execution_count": 20,
   "metadata": {
    "ExecuteTime": {
     "end_time": "2020-02-07T06:28:25.310976Z",
     "start_time": "2020-02-07T06:28:25.305989Z"
    }
   },
   "outputs": [
    {
     "name": "stdout",
     "output_type": "stream",
     "text": [
      "you know I want your love I like you what should I do what should should what\n",
      "['you', 'know', 'I', 'want', 'your', 'love', 'I', 'like', 'you', 'what', 'should', 'I', 'do', 'what', 'should', 'should', 'what']\n",
      "{'you': 2, 'know': 1, 'I': 3, 'want': 1, 'your': 1, 'love': 1, 'like': 1, 'what': 3, 'should': 3, 'do': 1}\n",
      "3\n"
     ]
    }
   ],
   "source": [
    "#join이라는 함수\n",
    "\n",
    "str = \" \".join(corpus)\n",
    "print(str)\n",
    "\n",
    "words = str.split(' ') #내가 구분하고 싶은 구분자\n",
    "print(words)\n",
    "\n",
    "freq = {} #딕셔너리 초기화\n",
    "\n",
    "#단어 수만큼 루프를 돈다. 이렇게만 쓰면 에러난다. freq가 비어있어서 읽어올 수가 없다.\n",
    "#for w in words: \n",
    "#    freq[w] = freq[w] + 1\n",
    "    \n",
    "for w in words: \n",
    "    freq[w] = freq.get(w, 0) + 1\n",
    "print(freq)\n",
    "print(freq[\"I\"])"
   ]
  },
  {
   "cell_type": "code",
   "execution_count": 21,
   "metadata": {
    "ExecuteTime": {
     "end_time": "2020-02-07T06:28:25.317957Z",
     "start_time": "2020-02-07T06:28:25.311973Z"
    }
   },
   "outputs": [
    {
     "name": "stdout",
     "output_type": "stream",
     "text": [
      "  (0, 7)\t1\n",
      "  (0, 1)\t1\n",
      "  (0, 5)\t1\n",
      "  (0, 8)\t1\n",
      "  (0, 3)\t1\n",
      "  (1, 7)\t1\n",
      "  (1, 2)\t1\n",
      "  (2, 6)\t1\n",
      "  (2, 4)\t1\n",
      "  (2, 0)\t1\n",
      "  (3, 6)\t1\n",
      "  (3, 4)\t1\n",
      "  (4, 6)\t1\n",
      "  (4, 4)\t1\n",
      "[[0 1 0 1 0 1 0 1 1]\n",
      " [0 0 1 0 0 0 0 1 0]\n",
      " [1 0 0 0 1 0 1 0 0]\n",
      " [0 0 0 0 1 0 1 0 0]\n",
      " [0 0 0 0 1 0 1 0 0]]\n"
     ]
    }
   ],
   "source": [
    "vector = CountVectorizer() #글자수가 1개짜리는 의미가 없다고 생각해서, 빼버린다.\n",
    "tf = vector.fit_transform(corpus) #원핫인코딩하고는 조금 다르다. 여기서는, 단어 존재유무가 들어있다. 1개이상이면, 1, 없으면 0\n",
    "\n",
    "print(tf) #sparse한 행렬이라, 이렇게 표현하는게 좋다. 0자리는 필요 없다.\n",
    "print(tf.toarray()) #원핫 인코딩 되었음을 알 수 있다. 결국 같은 의미, dense한 행렬\n",
    "\n",
    "#위부터 \n",
    "#'you know I want your love',\n",
    "#'I like you',\n",
    "#'what should I do'\n",
    "\n",
    "#무슨자리인지 알아보고 싶으면, 한 단어만 corpus에 넣고 비교해본다. 이 방식은 단어의 위치를 고려하지 않는다."
   ]
  },
  {
   "cell_type": "code",
   "execution_count": 22,
   "metadata": {
    "ExecuteTime": {
     "end_time": "2020-02-07T06:28:25.322943Z",
     "start_time": "2020-02-07T06:28:25.318954Z"
    }
   },
   "outputs": [
    {
     "name": "stdout",
     "output_type": "stream",
     "text": [
      "(5, 9)\n"
     ]
    }
   ],
   "source": [
    "print(tf.shape) #(문장수, 단어수)"
   ]
  },
  {
   "cell_type": "code",
   "execution_count": 23,
   "metadata": {
    "ExecuteTime": {
     "end_time": "2020-02-07T06:28:25.327930Z",
     "start_time": "2020-02-07T06:28:25.324938Z"
    }
   },
   "outputs": [
    {
     "name": "stdout",
     "output_type": "stream",
     "text": [
      "{'you': 7, 'know': 1, 'want': 5, 'your': 8, 'love': 3, 'like': 2, 'what': 6, 'should': 4, 'do': 0}\n"
     ]
    }
   ],
   "source": [
    "#각 단어의 인덱스가 어떻게 부여되었는지를 보여준다.\n",
    "#알파벳순 정렬\n",
    "print(vector.vocabulary_)"
   ]
  },
  {
   "cell_type": "code",
   "execution_count": 24,
   "metadata": {
    "ExecuteTime": {
     "end_time": "2020-02-07T06:28:25.332918Z",
     "start_time": "2020-02-07T06:28:25.328927Z"
    }
   },
   "outputs": [
    {
     "name": "stdout",
     "output_type": "stream",
     "text": [
      "7\n",
      "7\n"
     ]
    }
   ],
   "source": [
    "#이런식으로, 원하는 단어의 인덱스를 찾을 수 있다.\n",
    "\n",
    "print(vector.vocabulary_['you'])\n",
    "print(vector.vocabulary_.get('you'))   "
   ]
  },
  {
   "cell_type": "code",
   "execution_count": 25,
   "metadata": {
    "ExecuteTime": {
     "end_time": "2020-02-07T06:28:25.339898Z",
     "start_time": "2020-02-07T06:28:25.333914Z"
    }
   },
   "outputs": [
    {
     "name": "stdout",
     "output_type": "stream",
     "text": [
      "do\n",
      "know\n",
      "like\n",
      "love\n",
      "should\n",
      "want\n",
      "what\n",
      "you\n",
      "your\n",
      "you 7\n",
      "know 1\n",
      "want 5\n",
      "your 8\n",
      "love 3\n",
      "like 2\n",
      "what 6\n",
      "should 4\n",
      "do 0\n"
     ]
    }
   ],
   "source": [
    "words = vector.get_feature_names()\n",
    "#딕셔너리는 순서가 없다.\n",
    "words = vector.get_feature_names()\n",
    "for word in words:\n",
    "    print(word)\n",
    "    \n",
    "for key in vector.vocabulary_: \n",
    "    print(key, vector.vocabulary_[key])"
   ]
  },
  {
   "cell_type": "markdown",
   "metadata": {},
   "source": [
    "<h1>2. TF-IDF(Term Frequency - Inverse Document Frequency) #행렬로 표시된다.</h1>\n",
    "<h1>TF : 현재 문서에서 단어 A가 나타난 횟수 #TF가 크다. 의미가 크다. 자주 나온다.</h1>\n",
    "<h1>DF : 단어가 나타난 문서의 수  #DF가 크다. 흔한 단어다.</h1>\n",
    "<h1>TF-IDF</h1>\n",
    "<h1>특정 단어의 상대적인 빈도를 나타내 주는 값, 즉, IDF는 희귀도라고 보면 된다.</h1>\n",
    "<h1>값이 클 수록 내 문서에만 많이 언급되는 단어(=다른 문서에서는 잘 언급 안됨)</h1>\n",
    "<h1>값이 작을수록 다른 문서에서 잘 언급하는 단어를 의미(현재 문서와 관련 없음)</h1>"
   ]
  },
  {
   "cell_type": "code",
   "execution_count": 26,
   "metadata": {
    "ExecuteTime": {
     "end_time": "2020-02-07T06:28:25.347877Z",
     "start_time": "2020-02-07T06:28:25.340895Z"
    }
   },
   "outputs": [
    {
     "name": "stdout",
     "output_type": "stream",
     "text": [
      "  (0, 17)\t0.6437444595062429\n",
      "  (0, 7)\t0.7652405313723362\n",
      "  (1, 17)\t0.6437444595062429\n",
      "  (1, 7)\t0.7652405313723362\n",
      "  (2, 12)\t0.28487998702172107\n",
      "  (2, 6)\t0.28487998702172107\n",
      "  (2, 4)\t0.28487998702172107\n",
      "  (2, 1)\t0.28487998702172107\n",
      "  (2, 9)\t0.35310140100264525\n",
      "  (2, 14)\t0.28487998702172107\n",
      "  (2, 8)\t0.35310140100264525\n",
      "  (2, 13)\t0.35310140100264525\n",
      "  (2, 5)\t0.35310140100264525\n",
      "  (2, 17)\t0.19893117008503197\n",
      "  (2, 7)\t0.23647612349029334\n",
      "  (3, 11)\t0.3542556015420614\n",
      "  (3, 16)\t0.3542556015420614\n",
      "  (3, 3)\t0.3542556015420614\n",
      "  (3, 10)\t0.3542556015420614\n",
      "  (3, 0)\t0.3542556015420614\n",
      "  (3, 2)\t0.3542556015420614\n",
      "  (3, 15)\t0.3542556015420614\n",
      "  (3, 14)\t0.28581118874948447\n",
      "  (3, 17)\t0.1995814265359179\n",
      "  (4, 12)\t0.5\n",
      "  (4, 6)\t0.5\n",
      "  (4, 4)\t0.5\n",
      "  (4, 1)\t0.5\n",
      "<class 'scipy.sparse.csr.csr_matrix'>\n"
     ]
    }
   ],
   "source": [
    "sent = [\"오늘 휴일\", \n",
    "        \"휴일 오늘\", \n",
    "        \"휴일 인 오늘 도 서쪽 을 중심 으로 폭염 이 이어졌는데요, 내일 은 반가운 비 소식 이 있습니다.\", \n",
    "        \"폭염 을 피해서 휴일 에 놀러왔다가 갑작스런 비 로 인해 망연자실 하고 있습니 다.\", \n",
    "        \" 내일 은 반가운 비 소식 이 있습니다.\"] \n",
    "\n",
    "tfidf_vectorizer = TfidfVectorizer()\n",
    "tfidf_matrix = tfidf_vectorizer.fit_transform(sent) #문장 벡터화 진행, #sent는 리스트\n",
    "print(tfidf_matrix)\n",
    "print(type(tfidf_matrix))"
   ]
  },
  {
   "cell_type": "code",
   "execution_count": 27,
   "metadata": {
    "ExecuteTime": {
     "end_time": "2020-02-07T06:28:25.353861Z",
     "start_time": "2020-02-07T06:28:25.348875Z"
    }
   },
   "outputs": [
    {
     "name": "stdout",
     "output_type": "stream",
     "text": [
      "(5, 18)\n",
      "[[0.         0.         0.         0.         0.         0.\n",
      "  0.         0.76524053 0.         0.         0.         0.\n",
      "  0.         0.         0.         0.         0.         0.64374446]\n",
      " [0.         0.         0.         0.         0.         0.\n",
      "  0.         0.76524053 0.         0.         0.         0.\n",
      "  0.         0.         0.         0.         0.         0.64374446]\n",
      " [0.         0.28487999 0.         0.         0.28487999 0.3531014\n",
      "  0.28487999 0.23647612 0.3531014  0.3531014  0.         0.\n",
      "  0.28487999 0.3531014  0.28487999 0.         0.         0.19893117]\n",
      " [0.3542556  0.         0.3542556  0.3542556  0.         0.\n",
      "  0.         0.         0.         0.         0.3542556  0.3542556\n",
      "  0.         0.         0.28581119 0.3542556  0.3542556  0.19958143]\n",
      " [0.         0.5        0.         0.         0.5        0.\n",
      "  0.5        0.         0.         0.         0.         0.\n",
      "  0.5        0.         0.         0.         0.         0.        ]]\n"
     ]
    }
   ],
   "source": [
    "#5는 문서의수, 18은 문서의 사이즈(단어의 수)\n",
    "#수가 높을 수록, 여기서는 자주 언급되고, 다른데서는 잘 언급이 안된다.\n",
    "print(tfidf_matrix.toarray().shape)\n",
    "print(tfidf_matrix.toarray())"
   ]
  },
  {
   "cell_type": "code",
   "execution_count": 28,
   "metadata": {
    "ExecuteTime": {
     "end_time": "2020-02-07T06:28:25.359844Z",
     "start_time": "2020-02-07T06:28:25.354858Z"
    }
   },
   "outputs": [
    {
     "name": "stdout",
     "output_type": "stream",
     "text": [
      "['갑작스런', '내일', '놀러왔다가', '망연자실', '반가운', '서쪽', '소식', '오늘', '으로', '이어졌는데요', '인해', '있습니', '있습니다', '중심', '폭염', '피해서', '하고', '휴일']\n"
     ]
    }
   ],
   "source": [
    "#이걸 토대로 해석하면 된다. 18개다.\n",
    "features = tfidf_vectorizer.get_feature_names()\n",
    "print(features)"
   ]
  },
  {
   "cell_type": "code",
   "execution_count": 29,
   "metadata": {
    "ExecuteTime": {
     "end_time": "2020-02-07T06:28:25.366826Z",
     "start_time": "2020-02-07T06:28:25.360842Z"
    }
   },
   "outputs": [
    {
     "name": "stdout",
     "output_type": "stream",
     "text": [
      "[7, 17]\n",
      "[[0.76524053 0.64374446]\n",
      " [0.76524053 0.64374446]\n",
      " [0.23647612 0.19893117]\n",
      " [0.         0.19958143]\n",
      " [0.         0.        ]]\n"
     ]
    }
   ],
   "source": [
    "#n번째 문장에서의 오늘과 휴일의 tf-idf값\n",
    "mat = np.asarray(tfidf_matrix.toarray())\n",
    "srch = [\"오늘\", \"휴일\"]\n",
    "#오늘과 휴일에 대한 get(i)값은 7, 17\n",
    "print([  tfidf_vectorizer.vocabulary_.get(i) for i in srch])\n",
    "#vocabulary는 dictionary형태이다.\n",
    "srch_dtm = mat[:, [  tfidf_vectorizer.vocabulary_.get(i) for i in srch]]\n",
    "#즉, 이것은 srch_dim = mat[:,[7, 17]]과 같은뜻\n",
    "\n",
    "#모든 문장에 대하여, 7번 인덱스 단어 즉, 오늘이라는 단어의 tf-idf값\n",
    "\n",
    "#srch_dtm = mat[:, [ 7,17]]   \n",
    "#srch_dtm = mat[:, 7]   \n",
    "\n",
    "print(srch_dtm)"
   ]
  },
  {
   "cell_type": "code",
   "execution_count": 30,
   "metadata": {
    "ExecuteTime": {
     "end_time": "2020-02-07T06:28:25.373807Z",
     "start_time": "2020-02-07T06:28:25.367823Z"
    }
   },
   "outputs": [
    {
     "name": "stdout",
     "output_type": "stream",
     "text": [
      "[1.40898499 1.40898499 0.43540729 0.19958143 0.        ]\n",
      "오늘 휴일 / score : 1.408984990878579\n",
      "휴일 오늘 / score : 1.408984990878579\n",
      "휴일 인 오늘 도 서쪽 을 중심 으로 폭염 이 이어졌는데요, 내일 은 반가운 비 소식 이 있습니다. / score : 0.4354072935753253\n",
      "폭염 을 피해서 휴일 에 놀러왔다가 갑작스런 비 로 인해 망연자실 하고 있습니 다. / score : 0.1995814265359179\n"
     ]
    }
   ],
   "source": [
    "#유사도 계산\n",
    "#알파벳 한개나, 음절 1개는 단어로 처리하지 않는다.\n",
    "\n",
    "#\"오늘\" + \"휴일\"\n",
    "score = srch_dtm.sum(axis=1)\n",
    "\n",
    "#오늘이라는 단어가 굉장히 강력한 단어이다.\n",
    "print(score)\n",
    "\n",
    "for i in range(len(score)):\n",
    "    if score[i] > 0:\n",
    "        print('{} / score : {}'.format(sent[i], score[i])) "
   ]
  },
  {
   "cell_type": "code",
   "execution_count": 32,
   "metadata": {
    "ExecuteTime": {
     "end_time": "2020-02-07T06:28:38.133783Z",
     "start_time": "2020-02-07T06:28:38.113097Z"
    }
   },
   "outputs": [],
   "source": [
    "#tf-idf계산하는 공식이 사실 여러개 있다.\n",
    "sentences = ['This is the first document.',\n",
    "              'This is the second document.',\n",
    "              'And the third one.',\n",
    "              'Is this the first document?']\n",
    "vect = TfidfVectorizer()\n",
    "X = vect.fit_transform(sentences)"
   ]
  },
  {
   "cell_type": "markdown",
   "metadata": {},
   "source": [
    "<img src=\"./tfidf.png\">"
   ]
  },
  {
   "cell_type": "code",
   "execution_count": 33,
   "metadata": {
    "ExecuteTime": {
     "end_time": "2020-02-07T06:28:39.819216Z",
     "start_time": "2020-02-07T06:28:39.808246Z"
    }
   },
   "outputs": [
    {
     "data": {
      "text/plain": [
       "SGDClassifier(alpha=0.0001, average=False, class_weight=None,\n",
       "              early_stopping=False, epsilon=0.1, eta0=0.0, fit_intercept=True,\n",
       "              l1_ratio=0.15, learning_rate='optimal', loss='perceptron',\n",
       "              max_iter=1000, n_iter_no_change=5, n_jobs=None, penalty='l2',\n",
       "              power_t=0.5, random_state=None, shuffle=True, tol=0.001,\n",
       "              validation_fraction=0.1, verbose=0, warm_start=False)"
      ]
     },
     "execution_count": 33,
     "metadata": {},
     "output_type": "execute_result"
    }
   ],
   "source": [
    "#학습시키기\n",
    "y = [1,2,3,4]\n",
    "model =  SGDClassifier(loss='perceptron')  \n",
    "model.fit(X, y)"
   ]
  },
  {
   "cell_type": "code",
   "execution_count": 34,
   "metadata": {
    "ExecuteTime": {
     "end_time": "2020-02-07T06:28:41.421209Z",
     "start_time": "2020-02-07T06:28:41.417220Z"
    }
   },
   "outputs": [
    {
     "name": "stdout",
     "output_type": "stream",
     "text": [
      "[3]\n"
     ]
    }
   ],
   "source": [
    "X_pred = vect.transform(['My new document third'])\n",
    "y_pred = model.predict(X_pred)\n",
    "#3번째 문장과 가장 유사하다고 판단한다.\n",
    "print(y_pred)"
   ]
  }
 ],
 "metadata": {
  "kernelspec": {
   "display_name": "Python 3",
   "language": "python",
   "name": "python3"
  },
  "language_info": {
   "codemirror_mode": {
    "name": "ipython",
    "version": 3
   },
   "file_extension": ".py",
   "mimetype": "text/x-python",
   "name": "python",
   "nbconvert_exporter": "python",
   "pygments_lexer": "ipython3",
   "version": "3.6.10"
  },
  "varInspector": {
   "cols": {
    "lenName": 16,
    "lenType": 16,
    "lenVar": 40
   },
   "kernels_config": {
    "python": {
     "delete_cmd_postfix": "",
     "delete_cmd_prefix": "del ",
     "library": "var_list.py",
     "varRefreshCmd": "print(var_dic_list())"
    },
    "r": {
     "delete_cmd_postfix": ") ",
     "delete_cmd_prefix": "rm(",
     "library": "var_list.r",
     "varRefreshCmd": "cat(var_dic_list()) "
    }
   },
   "types_to_exclude": [
    "module",
    "function",
    "builtin_function_or_method",
    "instance",
    "_Feature"
   ],
   "window_display": false
  }
 },
 "nbformat": 4,
 "nbformat_minor": 2
}
